{
 "cells": [
  {
   "cell_type": "code",
   "execution_count": 1,
   "metadata": {},
   "outputs": [],
   "source": [
    "from datetime import datetime, timezone\n",
    "import pandas as pd"
   ]
  },
  {
   "cell_type": "code",
   "execution_count": 2,
   "metadata": {},
   "outputs": [],
   "source": [
    "now = datetime.now(timezone.utc)"
   ]
  },
  {
   "cell_type": "code",
   "execution_count": 3,
   "metadata": {},
   "outputs": [],
   "source": [
    "ticker_list = pd.read_csv(\"data/etp_equity_australia.csv\", sep='\\t')\n",
    "ticker_list[\"created_date\"] = now"
   ]
  },
  {
   "cell_type": "code",
   "execution_count": 4,
   "metadata": {},
   "outputs": [
    {
     "data": {
      "text/plain": [
       "Index(['Exposure ', 'ASX Code', 'Type', 'iNAV', 'Benchmark',\n",
       "       'Investment Style', 'Management Cost %', 'Outperf' Fee',\n",
       "       'Admission Date', 'created_date'],\n",
       "      dtype='object')"
      ]
     },
     "execution_count": 4,
     "metadata": {},
     "output_type": "execute_result"
    }
   ],
   "source": [
    "ticker_list.columns"
   ]
  },
  {
   "cell_type": "code",
   "execution_count": 5,
   "metadata": {},
   "outputs": [
    {
     "data": {
      "text/html": [
       "<div>\n",
       "<style scoped>\n",
       "    .dataframe tbody tr th:only-of-type {\n",
       "        vertical-align: middle;\n",
       "    }\n",
       "\n",
       "    .dataframe tbody tr th {\n",
       "        vertical-align: top;\n",
       "    }\n",
       "\n",
       "    .dataframe thead th {\n",
       "        text-align: right;\n",
       "    }\n",
       "</style>\n",
       "<table border=\"1\" class=\"dataframe\">\n",
       "  <thead>\n",
       "    <tr style=\"text-align: right;\">\n",
       "      <th></th>\n",
       "      <th>Exposure</th>\n",
       "      <th>ASX Code</th>\n",
       "      <th>Type</th>\n",
       "      <th>iNAV</th>\n",
       "      <th>Benchmark</th>\n",
       "      <th>Investment Style</th>\n",
       "      <th>Management Cost %</th>\n",
       "      <th>Outperf' Fee</th>\n",
       "      <th>Admission Date</th>\n",
       "      <th>created_date</th>\n",
       "    </tr>\n",
       "  </thead>\n",
       "  <tbody>\n",
       "    <tr>\n",
       "      <th>0</th>\n",
       "      <td>BetaShares Australia 200 ETF</td>\n",
       "      <td>A200</td>\n",
       "      <td>ETF</td>\n",
       "      <td>Yes</td>\n",
       "      <td>NaN</td>\n",
       "      <td>NaN</td>\n",
       "      <td>NaN</td>\n",
       "      <td>NaN</td>\n",
       "      <td>NaN</td>\n",
       "      <td>2024-06-24 22:05:19.788741+00:00</td>\n",
       "    </tr>\n",
       "    <tr>\n",
       "      <th>1</th>\n",
       "      <td>ASX: YA20</td>\n",
       "      <td>Solactive Australia 200 Index</td>\n",
       "      <td>Index Tracking</td>\n",
       "      <td>0.04</td>\n",
       "      <td>No</td>\n",
       "      <td>8/05/2018</td>\n",
       "      <td>NaN</td>\n",
       "      <td>NaN</td>\n",
       "      <td>NaN</td>\n",
       "      <td>2024-06-24 22:05:19.788741+00:00</td>\n",
       "    </tr>\n",
       "    <tr>\n",
       "      <th>2</th>\n",
       "      <td>Dimensional Australian Core Equity Trust (Mana...</td>\n",
       "      <td>DACE</td>\n",
       "      <td>ETF</td>\n",
       "      <td>No</td>\n",
       "      <td>S&amp;P/ASX 300 Index (Total Return)</td>\n",
       "      <td>Performance compared to benchmark</td>\n",
       "      <td>0.28</td>\n",
       "      <td>No</td>\n",
       "      <td>13/11/2023</td>\n",
       "      <td>2024-06-24 22:05:19.788741+00:00</td>\n",
       "    </tr>\n",
       "    <tr>\n",
       "      <th>3</th>\n",
       "      <td>iShares S&amp;P/ASX 20 ETF</td>\n",
       "      <td>ILC</td>\n",
       "      <td>ETF</td>\n",
       "      <td>No</td>\n",
       "      <td>S&amp;P/ASX Accumulation 20 Index</td>\n",
       "      <td>Index Tracking</td>\n",
       "      <td>0.24</td>\n",
       "      <td>No</td>\n",
       "      <td>9/12/2010</td>\n",
       "      <td>2024-06-24 22:05:19.788741+00:00</td>\n",
       "    </tr>\n",
       "    <tr>\n",
       "      <th>4</th>\n",
       "      <td>Intelligent Investor Australian Equity Income ...</td>\n",
       "      <td>INIF</td>\n",
       "      <td>ETF</td>\n",
       "      <td>Yes</td>\n",
       "      <td>NaN</td>\n",
       "      <td>NaN</td>\n",
       "      <td>NaN</td>\n",
       "      <td>NaN</td>\n",
       "      <td>NaN</td>\n",
       "      <td>2024-06-24 22:05:19.788741+00:00</td>\n",
       "    </tr>\n",
       "  </tbody>\n",
       "</table>\n",
       "</div>"
      ],
      "text/plain": [
       "                                           Exposure   \\\n",
       "0                       BetaShares Australia 200 ETF   \n",
       "1                                          ASX: YA20   \n",
       "2  Dimensional Australian Core Equity Trust (Mana...   \n",
       "3                             iShares S&P/ASX 20 ETF   \n",
       "4  Intelligent Investor Australian Equity Income ...   \n",
       "\n",
       "                        ASX Code            Type  iNAV  \\\n",
       "0                           A200             ETF   Yes   \n",
       "1  Solactive Australia 200 Index  Index Tracking  0.04   \n",
       "2                           DACE             ETF    No   \n",
       "3                            ILC             ETF    No   \n",
       "4                           INIF             ETF   Yes   \n",
       "\n",
       "                          Benchmark                   Investment Style  \\\n",
       "0                               NaN                                NaN   \n",
       "1                                No                          8/05/2018   \n",
       "2  S&P/ASX 300 Index (Total Return)  Performance compared to benchmark   \n",
       "3     S&P/ASX Accumulation 20 Index                     Index Tracking   \n",
       "4                               NaN                                NaN   \n",
       "\n",
       "   Management Cost % Outperf' Fee Admission Date  \\\n",
       "0                NaN          NaN            NaN   \n",
       "1                NaN          NaN            NaN   \n",
       "2               0.28           No     13/11/2023   \n",
       "3               0.24           No      9/12/2010   \n",
       "4                NaN          NaN            NaN   \n",
       "\n",
       "                      created_date  \n",
       "0 2024-06-24 22:05:19.788741+00:00  \n",
       "1 2024-06-24 22:05:19.788741+00:00  \n",
       "2 2024-06-24 22:05:19.788741+00:00  \n",
       "3 2024-06-24 22:05:19.788741+00:00  \n",
       "4 2024-06-24 22:05:19.788741+00:00  "
      ]
     },
     "execution_count": 5,
     "metadata": {},
     "output_type": "execute_result"
    }
   ],
   "source": [
    "ticker_list.head()"
   ]
  },
  {
   "cell_type": "code",
   "execution_count": 6,
   "metadata": {},
   "outputs": [
    {
     "data": {
      "text/plain": [
       "Index(['ticker', 'name', 'gics_industry_group', 'listed_utc', 'market_cap',\n",
       "       'currency_code', 'country_alpha_3', 'market_type', 'asset_class_type'],\n",
       "      dtype='object')"
      ]
     },
     "execution_count": 6,
     "metadata": {},
     "output_type": "execute_result"
    }
   ],
   "source": [
    "ticker_list = pd.read_csv(\"data/ASX_Listed_Companies.csv\")\n",
    "columns = ['ticker', 'name', 'gics_industry_group', 'listed_utc',\n",
    "       'market_cap']\n",
    "ticker_list.columns = columns\n",
    "ticker_list.drop(columns=[\"market_cap\"])\n",
    "ticker_list[\"currency_code\"] = \"AUD\"\n",
    "ticker_list[\"country_alpha_3\"] = \"aus\"\n",
    "ticker_list[\"market_type\"] = \"stocks\"\n",
    "ticker_list[\"asset_class_type\"] = \"stocks\"\n",
    "ticker_list.columns"
   ]
  },
  {
   "cell_type": "code",
   "execution_count": 7,
   "metadata": {},
   "outputs": [
    {
     "data": {
      "text/plain": [
       "array(['Capital Goods', 'Pharmaceuticals, Biotechnology & Life Sciences',\n",
       "       'Materials', 'Food, Beverage & Tobacco', 'Software & Services',\n",
       "       'Consumer Services', 'Semiconductors & Semiconductor Equipment',\n",
       "       'Health Care Equipment & Services', 'Telecommunication Services',\n",
       "       'Energy', 'Financial Services', 'Media & Entertainment', 'Banks',\n",
       "       'Equity Real Estate Investment Trusts (REITs)',\n",
       "       'Automobiles & Components',\n",
       "       'Consumer Discretionary Distribution & Retail', 'Not Applic',\n",
       "       'Real Estate Management & Development',\n",
       "       'Technology Hardware & Equipment',\n",
       "       'Commercial & Professional Services', 'Utilities',\n",
       "       'Transportation', 'Consumer Durables & Apparel', 'Insurance',\n",
       "       'Household & Personal Products', 'Class Pend',\n",
       "       'Consumer Staples Distribution & Retail'], dtype=object)"
      ]
     },
     "execution_count": 7,
     "metadata": {},
     "output_type": "execute_result"
    }
   ],
   "source": [
    "ticker_list[\"gics_industry_group\"].unique()"
   ]
  }
 ],
 "metadata": {
  "kernelspec": {
   "display_name": "asx_load",
   "language": "python",
   "name": "python3"
  },
  "language_info": {
   "codemirror_mode": {
    "name": "ipython",
    "version": 3
   },
   "file_extension": ".py",
   "mimetype": "text/x-python",
   "name": "python",
   "nbconvert_exporter": "python",
   "pygments_lexer": "ipython3",
   "version": "3.12.2"
  }
 },
 "nbformat": 4,
 "nbformat_minor": 2
}
