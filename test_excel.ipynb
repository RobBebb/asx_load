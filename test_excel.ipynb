{
 "cells": [
  {
   "cell_type": "code",
   "execution_count": 29,
   "metadata": {},
   "outputs": [],
   "source": [
    "import pandas as pd"
   ]
  },
  {
   "cell_type": "code",
   "execution_count": 34,
   "metadata": {},
   "outputs": [
    {
     "name": "stdout",
     "output_type": "stream",
     "text": [
      "<class 'pandas.core.frame.DataFrame'>\n",
      "RangeIndex: 1997 entries, 0 to 1996\n",
      "Data columns (total 12 columns):\n",
      " #   Column                    Non-Null Count  Dtype \n",
      "---  ------                    --------------  ----- \n",
      " 0   market                    1997 non-null   object\n",
      " 1   gics_sector_name          1997 non-null   object\n",
      " 2   sector_ticker             1997 non-null   object\n",
      " 3   sector_ticker_yahoo       1997 non-null   object\n",
      " 4   gics_industry_group_name  1997 non-null   object\n",
      " 5   gics_industry_name        1997 non-null   object\n",
      " 6   gics_sub_industry_name    1997 non-null   object\n",
      " 7   code                      1980 non-null   object\n",
      " 8   name                      1980 non-null   object\n",
      " 9   ticker                    1980 non-null   object\n",
      " 10  yahoo_ticker              1980 non-null   object\n",
      " 11  url                       1980 non-null   object\n",
      "dtypes: object(12)\n",
      "memory usage: 187.3+ KB\n",
      "None\n",
      "  market gics_sector_name sector_ticker sector_ticker_yahoo  \\\n",
      "0    ASX           Energy           XEJ               ^AXEJ   \n",
      "1    ASX           Energy           XEJ               ^AXEJ   \n",
      "2    ASX           Energy           XEJ               ^AXEJ   \n",
      "3    ASX           Energy           XEJ               ^AXEJ   \n",
      "4    ASX           Energy           XEJ               ^AXEJ   \n",
      "\n",
      "  gics_industry_group_name           gics_industry_name  \\\n",
      "0                   Energy  Energy Equipment & Services   \n",
      "1                   Energy  Energy Equipment & Services   \n",
      "2                   Energy  Energy Equipment & Services   \n",
      "3                   Energy  Energy Equipment & Services   \n",
      "4                   Energy  Oil, Gas & Consumable Fuels   \n",
      "\n",
      "           gics_sub_industry_name     code  \\\n",
      "0              Oil & Gas Drilling  ASX:SHE   \n",
      "1  Oil & Gas Equipment & Services  ASX:MRM   \n",
      "2  Oil & Gas Equipment & Services  ASX:MCE   \n",
      "3  Oil & Gas Equipment & Services  ASX:SRJ   \n",
      "4            Integrated Oil & Gas      NaN   \n",
      "\n",
      "                                  name ticker yahoo_ticker  \\\n",
      "0            Stonehorse Energy Limited    SHE       SHE.AX   \n",
      "1                 MMA Offshore Limited    MRM       MRM.AX   \n",
      "2  Matrix Composites & Engineering Ltd    MCE       MCE.AX   \n",
      "3           SRJ Technologies Group plc    SRJ       SRJ.AX   \n",
      "4                                  NaN    NaN          NaN   \n",
      "\n",
      "                                url  \n",
      "0  https://www.listcorp.com/ASX/SHE  \n",
      "1  https://www.listcorp.com/ASX/MRM  \n",
      "2  https://www.listcorp.com/ASX/MCE  \n",
      "3  https://www.listcorp.com/ASX/SRJ  \n",
      "4                               NaN  \n",
      "gics_industry_group_name\n",
      "Materials                                         812\n",
      "Financial Services                                187\n",
      "Energy                                            128\n",
      "Software & Services                               119\n",
      "Health Care Equipment & Services                   87\n",
      "Capital Goods                                      84\n",
      "Pharmaceuticals, BioTechnology & Life Sciences     84\n",
      "Commercial & Professional Services                 59\n",
      "Food, Beverage & Tobacco                           51\n",
      "Equity Real Estate Investment Trusts (REITs)       49\n",
      "Consumer Services                                  48\n",
      "Media & Entertainment                              46\n",
      "Consumer Discretionary Distribution & Retail       45\n",
      "Technology Hardware & Equipment                    28\n",
      "Transportation                                     25\n",
      "Real Estate Management & Development               23\n",
      "Utilities                                          22\n",
      "Consumer Durables & Apparel                        18\n",
      "Telecommunication Services                         16\n",
      "Insurance                                          14\n",
      "Banks                                              14\n",
      "Household & Personal Products                      12\n",
      "Automobiles & Components                           12\n",
      "Consumer Staples Distribution & Retail             10\n",
      "Semiconductors & Semiconductor Equipment            4\n",
      "Name: count, dtype: int64\n"
     ]
    }
   ],
   "source": [
    "# Read in the Asx Sectors Excel file as a dictionary where each key is a sheet and each value is a dataframe of the sheet data\n",
    "companies = pd.read_excel('data/ASX Sectors with Companies.xlsx', sheet_name = 'Sectors')\n",
    "companies['ticker'] = companies.loc[:,'code'].str.replace('ASX:','')\n",
    "# companies['ticker'] = companies['code'].str.replace('ASX:','')\n",
    "companies['yahoo_ticker'] = companies['ticker'] + '.AX'\n",
    "companies['url'] = 'https://www.listcorp.com/' + companies['market'] + '/' + companies['ticker']\n",
    "print(companies.info())\n",
    "print(companies.head())\n",
    "# print(companies.describe())\n",
    "# print(companies.columns)\n",
    "# Get a series of the sectors\n",
    "sector = companies['gics_sector_name']\n",
    "# print(sector)\n",
    "# get the number of each sector\n",
    "# print(sector.value_counts())\n",
    "print(companies['gics_industry_group_name'].value_counts())\n",
    "# Get the unique industries for a specific sector\n",
    "# print(companies[companies['sector']=='Real Estate']['industry'].unique())\n",
    "# Get all the industries as a series\n",
    "industry = companies['gics_industry_name']\n",
    "# print(type(industry))\n",
    "# print(industry.head(30))\n",
    "unique_industries = industry.value_counts()\n",
    "# # Returns a ndarray\n",
    "# print(unique_industries.head(30))\n",
    "# print(type(unique_industries))\n",
    "# print(unique_industries['Metals & Mining'])\n",
    "# Get the number of each industry\n",
    "# sub_industry = companies['sub_industry']\n",
    "# unique_sub_industry = sub_industry.value_counts()\n",
    "# print(unique_sub_industry['Copper'])\n",
    "# companies[['sector', 'ticker']].groupby(['sector']).count()"
   ]
  },
  {
   "cell_type": "code",
   "execution_count": 41,
   "metadata": {},
   "outputs": [
    {
     "name": "stdout",
     "output_type": "stream",
     "text": [
      "['market', 'gics_sector_name', 'sector_ticker', 'sector_ticker_yahoo', 'gics_industry_group_name', 'gics_industry_name', 'gics_sub_industry_name', 'code', 'name', 'ticker', 'yahoo_ticker', 'url']\n",
      "market,gics_sector_name,sector_ticker,sector_ticker_yahoo,gics_industry_group_name,gics_industry_name,gics_sub_industry_name,code,name,ticker,yahoo_ticker,url\n",
      "EXCLUDED.market, EXCLUDED.gics_sector_name, EXCLUDED.sector_ticker, EXCLUDED.sector_ticker_yahoo, EXCLUDED.gics_industry_group_name, EXCLUDED.gics_industry_name, EXCLUDED.gics_sub_industry_name, EXCLUDED.code, EXCLUDED.name, EXCLUDED.ticker, EXCLUDED.yahoo_ticker, EXCLUDED.url\n"
     ]
    }
   ],
   "source": [
    "# create a list of columns from the dataframe\n",
    "table_columns = list(companies.columns)\n",
    "print(table_columns)\n",
    "columns = \",\".join(table_columns)\n",
    "\n",
    "print(columns)\n",
    "# create VALUES('%s', '%s',...) one '%s' per column\n",
    "# values = f\"VALUES({','.join(['%s' for _ in ticker_list])})\"\n",
    "# print(values)\n",
    "# what to do on conflict\n",
    "conflict_columns = \", \".join(['EXCLUDED.' + column for column in table_columns])\n",
    "print(conflict_columns)"
   ]
  },
  {
   "cell_type": "code",
   "execution_count": 7,
   "metadata": {},
   "outputs": [],
   "source": [
    "for row in companies.itertuples(name='none'):\n",
    "    sector = row.sector\n",
    "    industry_group = row.industry_group\n",
    "    industry = row.industry\n",
    "    sub_industry = row.sub_industry\n",
    "    break"
   ]
  },
  {
   "cell_type": "code",
   "execution_count": 4,
   "metadata": {},
   "outputs": [
    {
     "name": "stdout",
     "output_type": "stream",
     "text": [
      "                                         Close\n",
      "Ticker Date                                   \n",
      "^AXEJ  2023-06-29 00:00:00+10:00  10787.700195\n",
      "       2023-06-30 00:00:00+10:00  10827.799805\n",
      "       2023-07-03 00:00:00+10:00  10917.799805\n",
      "       2023-07-04 00:00:00+10:00  11044.200195\n",
      "       2023-07-05 00:00:00+10:00  10983.900391\n",
      "...                                        ...\n",
      "       2024-06-24 00:00:00+10:00   9754.000000\n",
      "       2024-06-25 00:00:00+10:00   9971.799805\n",
      "       2024-06-26 00:00:00+10:00  10024.900391\n",
      "       2024-06-27 00:00:00+10:00  10031.099609\n",
      "       2024-06-28 00:00:00+10:00  10031.500000\n",
      "\n",
      "[254 rows x 1 columns]\n"
     ]
    }
   ],
   "source": [
    "import yfinance as yf\n",
    "import time\n",
    "from datetime import datetime as dt\n",
    "from datetime import timezone as tz\n",
    "from dateutil.relativedelta import relativedelta\n",
    "YEARS = 1\n",
    "WAIT_TIME_IN_SECONDS = 1.0\n",
    "now = dt.now(tz.utc)\n",
    "# print(now)\n",
    "end = f\"{now.year}-{now.month}-{now.day}\"\n",
    "# print(end)\n",
    "start_date = now - relativedelta(years=YEARS)\n",
    "start = f\"{start_date.year}-{start_date.month}-{start_date.day}\"\n",
    "# print(start)\n",
    "sector_tickers = companies['sector_ticker_yahoo'].unique()\n",
    "# print(sector_tickers)\n",
    "# print(type(sector_tickers))\n",
    "list_sector_tickers = list(sector_tickers)\n",
    "# print(type(list_sector_tickers))\n",
    "data_list = []\n",
    "# print(list_sector_tickers)\n",
    "for ticker in list_sector_tickers:\n",
    "    # print(f'Ticker: {ticker}\"')\n",
    "    obj = yf.Ticker(ticker)\n",
    "    ohlc = obj.history(start=start, end=end)\n",
    "    ohlc['Ticker'] = ticker\n",
    "    data_list.append(ohlc)\n",
    "    time.sleep(WAIT_TIME_IN_SECONDS)\n",
    "data = pd.concat(data_list)\n",
    "# print(data.shape)\n",
    "# print(data['Ticker'].value_counts())\n",
    "# print(data.columns)\n",
    "# print(data.head(3))\n",
    "data = data.reset_index()\n",
    "# print(data.columns)\n",
    "data = data.set_index(['Ticker', 'Date'])\n",
    "# print(data.head(3))\n",
    "print(data.loc[['^AXEJ'],['Close']])"
   ]
  },
  {
   "cell_type": "code",
   "execution_count": 5,
   "metadata": {},
   "outputs": [
    {
     "name": "stderr",
     "output_type": "stream",
     "text": [
      "[*********************100%%**********************]  2 of 2 completed"
     ]
    },
    {
     "name": "stdout",
     "output_type": "stream",
     "text": [
      "\n",
      "\n",
      "Price                    Open        High         Low       Close   Adj Close  \\\n",
      "Date       Ticker                                                               \n",
      "2023-06-29 AAPL    189.080002  190.070007  188.940002  189.589996  188.588440   \n",
      "2023-06-30 AAPL    191.630005  194.479996  191.259995  193.970001  192.945328   \n",
      "2023-07-03 AAPL    193.779999  193.880005  191.759995  192.460007  191.443298   \n",
      "2023-07-05 AAPL    191.570007  192.979996  190.619995  191.330002  190.319260   \n",
      "2023-07-06 AAPL    189.839996  192.020004  189.199997  191.809998  190.796722   \n",
      "\n",
      "Price                Volume  \n",
      "Date       Ticker            \n",
      "2023-06-29 AAPL    46347300  \n",
      "2023-06-30 AAPL    85069600  \n",
      "2023-07-03 AAPL    31458200  \n",
      "2023-07-05 AAPL    46920300  \n",
      "2023-07-06 AAPL    45094300  \n"
     ]
    },
    {
     "name": "stderr",
     "output_type": "stream",
     "text": [
      "\n"
     ]
    }
   ],
   "source": [
    "import yfinance as yf\n",
    "import time\n",
    "from datetime import datetime as dt\n",
    "from datetime import timezone as tz\n",
    "from dateutil.relativedelta import relativedelta\n",
    "YEARS = 1\n",
    "WAIT_TIME_IN_SECONDS = 1.0\n",
    "now = dt.now(tz.utc)\n",
    "# print(now)\n",
    "end = f\"{now.year}-{now.month}-{now.day}\"\n",
    "# print(end)\n",
    "start_date = now - relativedelta(years=YEARS)\n",
    "start = f\"{start_date.year}-{start_date.month}-{start_date.day}\"\n",
    "\n",
    "# Define a list of ticker symbols to download\n",
    "tickerStrings = ['AAPL', 'MSFT']\n",
    "\n",
    "# Download 2 days of data for each ticker, grouping by 'Ticker' to structure the DataFrame with multi-level columns\n",
    "df = yf.download(tickerStrings, start=start, end=end, group_by='Ticker', period='1d')\n",
    "# print(df.info())\n",
    "# print(df.head())\n",
    "# Transform the DataFrame: stack the ticker symbols to create a multi-index (Date, Ticker), then reset the 'Ticker' level to turn it into a column\n",
    "# df = df.stack(level=0).rename_axis(['Date', 'Ticker']).reset_index(level=1)\n",
    "df = df.stack(level=0, future_stack=True).rename_axis(['Date', 'Ticker']).sort_index(level=['Ticker', 'Date'])\n",
    "print('\\n')\n",
    "print(df.head())"
   ]
  },
  {
   "cell_type": "code",
   "execution_count": 10,
   "metadata": {},
   "outputs": [
    {
     "name": "stderr",
     "output_type": "stream",
     "text": [
      "[*********************100%%**********************]  2 of 2 completed"
     ]
    },
    {
     "name": "stdout",
     "output_type": "stream",
     "text": [
      "<class 'pandas.core.frame.DataFrame'>\n",
      "DatetimeIndex: 252 entries, 2023-06-29 to 2024-06-28\n",
      "Data columns (total 12 columns):\n",
      " #   Column             Non-Null Count  Dtype  \n",
      "---  ------             --------------  -----  \n",
      " 0   (AAPL, Open)       252 non-null    float64\n",
      " 1   (AAPL, High)       252 non-null    float64\n",
      " 2   (AAPL, Low)        252 non-null    float64\n",
      " 3   (AAPL, Close)      252 non-null    float64\n",
      " 4   (AAPL, Adj Close)  252 non-null    float64\n",
      " 5   (AAPL, Volume)     252 non-null    int64  \n",
      " 6   (MSFT, Open)       252 non-null    float64\n",
      " 7   (MSFT, High)       252 non-null    float64\n",
      " 8   (MSFT, Low)        252 non-null    float64\n",
      " 9   (MSFT, Close)      252 non-null    float64\n",
      " 10  (MSFT, Adj Close)  252 non-null    float64\n",
      " 11  (MSFT, Volume)     252 non-null    int64  \n",
      "dtypes: float64(10), int64(2)\n",
      "memory usage: 25.6 KB\n",
      "None\n",
      "Ticker            AAPL                                                  \\\n",
      "Price             Open        High         Low       Close   Adj Close   \n",
      "Date                                                                     \n",
      "2023-06-29  189.080002  190.070007  188.940002  189.589996  188.588440   \n",
      "2023-06-30  191.630005  194.479996  191.259995  193.970001  192.945328   \n",
      "2023-07-03  193.779999  193.880005  191.759995  192.460007  191.443298   \n",
      "2023-07-05  191.570007  192.979996  190.619995  191.330002  190.319260   \n",
      "2023-07-06  189.839996  192.020004  189.199997  191.809998  190.796722   \n",
      "\n",
      "Ticker                      MSFT                                      \\\n",
      "Price         Volume        Open        High         Low       Close   \n",
      "Date                                                                   \n",
      "2023-06-29  46347300  334.709991  336.109985  332.619995  335.049988   \n",
      "2023-06-30  85069600  337.750000  342.730011  337.200012  340.540009   \n",
      "2023-07-03  31458200  339.190002  340.899994  336.570007  337.989990   \n",
      "2023-07-05  46920300  335.089996  341.649994  334.730011  338.149994   \n",
      "2023-07-06  45094300  337.299988  342.989990  335.500000  341.269989   \n",
      "\n",
      "Ticker                            \n",
      "Price        Adj Close    Volume  \n",
      "Date                              \n",
      "2023-06-29  332.449341  16997000  \n",
      "2023-06-30  337.896759  26823800  \n",
      "2023-07-03  335.366516  12508700  \n",
      "2023-07-05  335.525299  18172400  \n",
      "2023-07-06  338.621063  28161200  \n"
     ]
    },
    {
     "name": "stderr",
     "output_type": "stream",
     "text": [
      "\n"
     ]
    }
   ],
   "source": [
    "df = yf.download(tickerStrings, start=start, end=end, group_by='ticker', period='1d')\n",
    "print(df.info())\n",
    "print(df.head())"
   ]
  },
  {
   "cell_type": "code",
   "execution_count": 11,
   "metadata": {},
   "outputs": [
    {
     "name": "stderr",
     "output_type": "stream",
     "text": [
      "[*********************100%%**********************]  2 of 2 completed"
     ]
    },
    {
     "name": "stdout",
     "output_type": "stream",
     "text": [
      "<class 'pandas.core.frame.DataFrame'>\n",
      "DatetimeIndex: 252 entries, 2023-06-29 to 2024-06-28\n",
      "Data columns (total 12 columns):\n",
      " #   Column             Non-Null Count  Dtype  \n",
      "---  ------             --------------  -----  \n",
      " 0   (Adj Close, AAPL)  252 non-null    float64\n",
      " 1   (Adj Close, MSFT)  252 non-null    float64\n",
      " 2   (Close, AAPL)      252 non-null    float64\n",
      " 3   (Close, MSFT)      252 non-null    float64\n",
      " 4   (High, AAPL)       252 non-null    float64\n",
      " 5   (High, MSFT)       252 non-null    float64\n",
      " 6   (Low, AAPL)        252 non-null    float64\n",
      " 7   (Low, MSFT)        252 non-null    float64\n",
      " 8   (Open, AAPL)       252 non-null    float64\n",
      " 9   (Open, MSFT)       252 non-null    float64\n",
      " 10  (Volume, AAPL)     252 non-null    int64  \n",
      " 11  (Volume, MSFT)     252 non-null    int64  \n",
      "dtypes: float64(10), int64(2)\n",
      "memory usage: 25.6 KB\n",
      "None\n",
      "Price        Adj Close                   Close                    High  \\\n",
      "Ticker            AAPL        MSFT        AAPL        MSFT        AAPL   \n",
      "Date                                                                     \n",
      "2023-06-29  188.588440  332.449341  189.589996  335.049988  190.070007   \n",
      "2023-06-30  192.945328  337.896759  193.970001  340.540009  194.479996   \n",
      "2023-07-03  191.443298  335.366516  192.460007  337.989990  193.880005   \n",
      "2023-07-05  190.319260  335.525299  191.330002  338.149994  192.979996   \n",
      "2023-07-06  190.796722  338.621063  191.809998  341.269989  192.020004   \n",
      "\n",
      "Price                          Low                    Open              \\\n",
      "Ticker            MSFT        AAPL        MSFT        AAPL        MSFT   \n",
      "Date                                                                     \n",
      "2023-06-29  336.109985  188.940002  332.619995  189.080002  334.709991   \n",
      "2023-06-30  342.730011  191.259995  337.200012  191.630005  337.750000   \n",
      "2023-07-03  340.899994  191.759995  336.570007  193.779999  339.190002   \n",
      "2023-07-05  341.649994  190.619995  334.730011  191.570007  335.089996   \n",
      "2023-07-06  342.989990  189.199997  335.500000  189.839996  337.299988   \n",
      "\n",
      "Price         Volume            \n",
      "Ticker          AAPL      MSFT  \n",
      "Date                            \n",
      "2023-06-29  46347300  16997000  \n",
      "2023-06-30  85069600  26823800  \n",
      "2023-07-03  31458200  12508700  \n",
      "2023-07-05  46920300  18172400  \n",
      "2023-07-06  45094300  28161200  \n"
     ]
    },
    {
     "name": "stderr",
     "output_type": "stream",
     "text": [
      "\n"
     ]
    }
   ],
   "source": [
    "df = yf.download(tickerStrings, start=start, end=end, period='1d')\n",
    "print(df.info())\n",
    "print(df.head())"
   ]
  }
 ],
 "metadata": {
  "kernelspec": {
   "display_name": "asx_load",
   "language": "python",
   "name": "python3"
  },
  "language_info": {
   "codemirror_mode": {
    "name": "ipython",
    "version": 3
   },
   "file_extension": ".py",
   "mimetype": "text/x-python",
   "name": "python",
   "nbconvert_exporter": "python",
   "pygments_lexer": "ipython3",
   "version": "3.12.2"
  }
 },
 "nbformat": 4,
 "nbformat_minor": 2
}
